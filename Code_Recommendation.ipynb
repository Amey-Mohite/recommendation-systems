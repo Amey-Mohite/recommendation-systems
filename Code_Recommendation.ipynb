{
  "nbformat": 4,
  "nbformat_minor": 0,
  "metadata": {
    "colab": {
      "name": "Code_Recommendation.ipynb",
      "provenance": [],
      "collapsed_sections": []
    },
    "kernelspec": {
      "name": "python3",
      "display_name": "Python 3"
    },
    "language_info": {
      "name": "python"
    },
    "accelerator": "GPU"
  },
  "cells": [
    {
      "cell_type": "code",
      "execution_count": 1,
      "metadata": {
        "id": "J-UhKjc8Ri-T"
      },
      "outputs": [],
      "source": [
        "import pandas as pd\n",
        "import numpy as np\n",
        "from zipfile import ZipFile\n",
        "import tensorflow as tf\n",
        "from tensorflow import keras\n",
        "from tensorflow.keras import layers\n",
        "from pathlib import Path\n",
        "import matplotlib.pyplot as plt"
      ]
    },
    {
      "cell_type": "code",
      "source": [
        "movielens_data_file_url = (\n",
        "    \"http://files.grouplens.org/datasets/movielens/ml-latest-small.zip\"\n",
        ")\n",
        "movielens_zipped_file = keras.utils.get_file(\n",
        "    \"ml-latest-small.zip\", movielens_data_file_url, extract=False\n",
        ")\n",
        "keras_datasets_path = Path(movielens_zipped_file).parents[0]\n",
        "movielens_dir = keras_datasets_path / \"ml-latest-small\"\n",
        "\n",
        "# Only extract the data the first time the script is run.\n",
        "if not movielens_dir.exists():\n",
        "    with ZipFile(movielens_zipped_file, \"r\") as zip:\n",
        "        # Extract files\n",
        "        print(\"Extracting all the files now...\")\n",
        "        zip.extractall(path=keras_datasets_path)\n",
        "        print(\"Done!\")\n",
        "\n",
        "ratings_file = movielens_dir / \"ratings.csv\"\n",
        "df = pd.read_csv(ratings_file)"
      ],
      "metadata": {
        "colab": {
          "base_uri": "https://localhost:8080/"
        },
        "id": "UvVSlRxkSIh8",
        "outputId": "5b738df0-7df6-4e16-c32b-7ceeb9d27990"
      },
      "execution_count": 2,
      "outputs": [
        {
          "output_type": "stream",
          "name": "stdout",
          "text": [
            "Downloading data from http://files.grouplens.org/datasets/movielens/ml-latest-small.zip\n",
            "983040/978202 [==============================] - 0s 0us/step\n",
            "991232/978202 [==============================] - 0s 0us/step\n",
            "Extracting all the files now...\n",
            "Done!\n"
          ]
        }
      ]
    },
    {
      "cell_type": "code",
      "source": [
        "user_ids = df[\"userId\"].unique().tolist()\n",
        "user2user_encoded = {x: i for i, x in enumerate(user_ids)}\n",
        "userencoded2user = {i: x for i, x in enumerate(user_ids)}\n",
        "movie_ids = df[\"movieId\"].unique().tolist()\n",
        "movie2movie_encoded = {x: i for i, x in enumerate(movie_ids)}\n",
        "movie_encoded2movie = {i: x for i, x in enumerate(movie_ids)}\n",
        "df[\"user\"] = df[\"userId\"].map(user2user_encoded)\n",
        "df[\"movie\"] = df[\"movieId\"].map(movie2movie_encoded)\n",
        "\n",
        "num_users = len(user2user_encoded)\n",
        "num_movies = len(movie_encoded2movie)\n",
        "df[\"rating\"] = df[\"rating\"].values.astype(np.float32)\n",
        "# min and max ratings will be used to normalize the ratings later\n",
        "min_rating = min(df[\"rating\"])\n",
        "max_rating = max(df[\"rating\"])\n",
        "\n",
        "print(\n",
        "    \"Number of users: {}, Number of Movies: {}, Min rating: {}, Max rating: {}\".format(\n",
        "        num_users, num_movies, min_rating, max_rating\n",
        "    )\n",
        ")"
      ],
      "metadata": {
        "colab": {
          "base_uri": "https://localhost:8080/"
        },
        "id": "jabnuCv8SIfN",
        "outputId": "2db1bd86-11ad-4b0b-a3fd-d8ee0e8ee747"
      },
      "execution_count": 3,
      "outputs": [
        {
          "output_type": "stream",
          "name": "stdout",
          "text": [
            "Number of users: 610, Number of Movies: 9724, Min rating: 0.5, Max rating: 5.0\n"
          ]
        }
      ]
    },
    {
      "cell_type": "code",
      "source": [
        "df = df.sample(frac=1, random_state=42)\n",
        "x = df[[\"user\", \"movie\"]].values\n",
        "# Normalize the targets between 0 and 1. Makes it easy to train.\n",
        "y = df[\"rating\"].apply(lambda x: (x - min_rating) / (max_rating - min_rating)).values\n",
        "# Assuming training on 90% of the data and validating on 10%.\n",
        "train_indices = int(0.9 * df.shape[0])\n",
        "x_train, x_val, y_train, y_val = (\n",
        "    x[:train_indices],\n",
        "    x[train_indices:],\n",
        "    y[:train_indices],\n",
        "    y[train_indices:],\n",
        ")"
      ],
      "metadata": {
        "id": "jPvYNDzaSIV8"
      },
      "execution_count": 4,
      "outputs": []
    },
    {
      "cell_type": "code",
      "source": [
        "EMBEDDING_SIZE = 50\n",
        "\n",
        "\n",
        "class RecommenderNet(keras.Model):\n",
        "    def __init__(self, num_users, num_movies, embedding_size, **kwargs):\n",
        "        super(RecommenderNet, self).__init__(**kwargs)\n",
        "        self.num_users = num_users\n",
        "        self.num_movies = num_movies\n",
        "        self.embedding_size = embedding_size\n",
        "        self.user_embedding = layers.Embedding(\n",
        "            num_users,\n",
        "            embedding_size,\n",
        "            embeddings_initializer=\"he_normal\",\n",
        "            embeddings_regularizer=keras.regularizers.l2(1e-6),\n",
        "        )\n",
        "        self.user_bias = layers.Embedding(num_users, 1)\n",
        "        self.movie_embedding = layers.Embedding(\n",
        "            num_movies,\n",
        "            embedding_size,\n",
        "            embeddings_initializer=\"he_normal\",\n",
        "            embeddings_regularizer=keras.regularizers.l2(1e-6),\n",
        "        )\n",
        "        self.movie_bias = layers.Embedding(num_movies, 1)\n",
        "\n",
        "    def call(self, inputs):\n",
        "        user_vector = self.user_embedding(inputs[:, 0])\n",
        "        user_bias = self.user_bias(inputs[:, 0])\n",
        "        movie_vector = self.movie_embedding(inputs[:, 1])\n",
        "        movie_bias = self.movie_bias(inputs[:, 1])\n",
        "        dot_user_movie = tf.tensordot(user_vector, movie_vector, 2)\n",
        "        # Add all the components (including bias)\n",
        "        x = dot_user_movie + user_bias + movie_bias\n",
        "        # The sigmoid activation forces the rating to between 0 and 1\n",
        "        return tf.nn.sigmoid(x)\n",
        "\n",
        "\n",
        "model = RecommenderNet(num_users, num_movies, EMBEDDING_SIZE)\n",
        "model.compile(\n",
        "    loss=tf.keras.losses.BinaryCrossentropy(), optimizer=keras.optimizers.Adam(lr=0.001)\n",
        ")"
      ],
      "metadata": {
        "colab": {
          "base_uri": "https://localhost:8080/"
        },
        "id": "zAmt0MclSITT",
        "outputId": "9e70ce92-68d9-4260-ab5d-97e8ea1b57e9"
      },
      "execution_count": 5,
      "outputs": [
        {
          "output_type": "stream",
          "name": "stderr",
          "text": [
            "/usr/local/lib/python3.7/dist-packages/keras/optimizer_v2/adam.py:105: UserWarning: The `lr` argument is deprecated, use `learning_rate` instead.\n",
            "  super(Adam, self).__init__(name, **kwargs)\n"
          ]
        }
      ]
    },
    {
      "cell_type": "code",
      "source": [
        "history = model.fit(\n",
        "    x=x_train,\n",
        "    y=y_train,\n",
        "    batch_size=64,\n",
        "    epochs=5,\n",
        "    verbose=1,\n",
        "    validation_data=(x_val, y_val),\n",
        ")"
      ],
      "metadata": {
        "colab": {
          "base_uri": "https://localhost:8080/"
        },
        "id": "39HWcEXtSIQn",
        "outputId": "b690f58a-0faf-423b-c0ee-05a8e6eb2adc"
      },
      "execution_count": 6,
      "outputs": [
        {
          "output_type": "stream",
          "name": "stdout",
          "text": [
            "Epoch 1/5\n",
            "1418/1418 [==============================] - 15s 8ms/step - loss: 0.6356 - val_loss: 0.6203\n",
            "Epoch 2/5\n",
            "1418/1418 [==============================] - 7s 5ms/step - loss: 0.6132 - val_loss: 0.6162\n",
            "Epoch 3/5\n",
            "1418/1418 [==============================] - 6s 5ms/step - loss: 0.6091 - val_loss: 0.6141\n",
            "Epoch 4/5\n",
            "1418/1418 [==============================] - 6s 5ms/step - loss: 0.6079 - val_loss: 0.6115\n",
            "Epoch 5/5\n",
            "1418/1418 [==============================] - 7s 5ms/step - loss: 0.6069 - val_loss: 0.6125\n"
          ]
        }
      ]
    },
    {
      "cell_type": "code",
      "source": [
        "plt.plot(history.history[\"loss\"])\n",
        "plt.plot(history.history[\"val_loss\"])\n",
        "plt.title(\"model loss\")\n",
        "plt.ylabel(\"loss\")\n",
        "plt.xlabel(\"epoch\")\n",
        "plt.legend([\"train\", \"test\"], loc=\"upper left\")\n",
        "plt.show()"
      ],
      "metadata": {
        "colab": {
          "base_uri": "https://localhost:8080/",
          "height": 295
        },
        "id": "Kxh8xMrBSIJM",
        "outputId": "566c100c-db40-42f3-bb82-e9e8e2f6206c"
      },
      "execution_count": 7,
      "outputs": [
        {
          "output_type": "display_data",
          "data": {
            "text/plain": [
              "<Figure size 432x288 with 1 Axes>"
            ],
            "image/png": "[encoded data removed]"
          },
          "metadata": {
            "needs_background": "light"
          }
        }
      ]
    },
    {
      "cell_type": "markdown",
      "source": [
        "**1. (2 points) Train the model with more epochs and set the early stopping\n",
        "condition so it is not overfitting. What do you observe in the training history\n",
        "graph (e.g. does the validation loss continue to go down compared to the\n",
        "current value of epochs=5)?**"
      ],
      "metadata": {
        "id": "FKdmJtPoTu2n"
      }
    },
    {
      "cell_type": "code",
      "source": [
        "from tensorflow.keras.callbacks import EarlyStopping"
      ],
      "metadata": {
        "id": "QoL7TB4nT-O9"
      },
      "execution_count": 12,
      "outputs": []
    },
    {
      "cell_type": "code",
      "source": [
        "es = EarlyStopping(monitor='val_loss', mode='min', verbose=1, patience=5)"
      ],
      "metadata": {
        "id": "vcwnmPUTTTsL"
      },
      "execution_count": 13,
      "outputs": []
    },
    {
      "cell_type": "code",
      "source": [
        "history = model.fit(\n",
        "    x=x_train,\n",
        "    y=y_train,\n",
        "    batch_size=64,\n",
        "    epochs=20, # change epoch from 5 to 20\n",
        "    verbose=1,\n",
        "    validation_data=(x_val, y_val),\n",
        "    callbacks=[es] # use of callbacks for adding early stopping with patience = 5\n",
        ")"
      ],
      "metadata": {
        "colab": {
          "base_uri": "https://localhost:8080/"
        },
        "id": "QC3ijFL8TToe",
        "outputId": "81a39fb6-b5c7-4f12-a711-09f9409fca6a"
      },
      "execution_count": 14,
      "outputs": [
        {
          "output_type": "stream",
          "name": "stdout",
          "text": [
            "Epoch 1/20\n",
            "1418/1418 [==============================] - 11s 8ms/step - loss: 0.6047 - val_loss: 0.6108\n",
            "Epoch 2/20\n",
            "1418/1418 [==============================] - 10s 7ms/step - loss: 0.6043 - val_loss: 0.6121\n",
            "Epoch 3/20\n",
            "1418/1418 [==============================] - 11s 8ms/step - loss: 0.6051 - val_loss: 0.6130\n",
            "Epoch 4/20\n",
            "1418/1418 [==============================] - 12s 8ms/step - loss: 0.6041 - val_loss: 0.6142\n",
            "Epoch 5/20\n",
            "1418/1418 [==============================] - 11s 7ms/step - loss: 0.6058 - val_loss: 0.6118\n",
            "Epoch 6/20\n",
            "1418/1418 [==============================] - 11s 8ms/step - loss: 0.6057 - val_loss: 0.6129\n",
            "Epoch 6: early stopping\n"
          ]
        }
      ]
    },
    {
      "cell_type": "code",
      "source": [
        "plt.plot(history.history[\"loss\"])\n",
        "plt.plot(history.history[\"val_loss\"])\n",
        "plt.title(\"model loss\")\n",
        "plt.ylabel(\"loss\")\n",
        "plt.xlabel(\"epoch\")\n",
        "plt.legend([\"train\", \"test\"], loc=\"upper left\")\n",
        "plt.show()"
      ],
      "metadata": {
        "colab": {
          "base_uri": "https://localhost:8080/",
          "height": 295
        },
        "id": "Pk4N2LlmTTmA",
        "outputId": "411bccf9-e80e-4b05-c5ac-7213e22bf2b5"
      },
      "execution_count": 15,
      "outputs": [
        {
          "output_type": "display_data",
          "data": {
            "text/plain": [
              "<Figure size 432x288 with 1 Axes>"
            ],
            "image/png": "[encoded data removed]"
          },
          "metadata": {
            "needs_background": "light"
          }
        }
      ]
    },
    {
      "cell_type": "markdown",
      "source": [
        "Model has stopped training because of early stopping with patience as 5. As validation loss has increased compare to epoch 1."
      ],
      "metadata": {
        "id": "u36Mcl3NUacw"
      }
    },
    {
      "cell_type": "markdown",
      "source": [
        " **2. (3 points) Change batch_size to other values (32, 128, and 256). Which gives\n",
        "the lowest loss? The notebook should show all the results.**"
      ],
      "metadata": {
        "id": "eqBW5XHRVOuJ"
      }
    },
    {
      "cell_type": "markdown",
      "source": [
        "Batch Size = 32"
      ],
      "metadata": {
        "id": "jqzdkPZZVs7c"
      }
    },
    {
      "cell_type": "code",
      "source": [
        "history = model.fit(\n",
        "    x=x_train,\n",
        "    y=y_train,\n",
        "    batch_size=32,\n",
        "    epochs=20, # change epoch from 5 to 20\n",
        "    verbose=1,\n",
        "    validation_data=(x_val, y_val),\n",
        "    callbacks=[es] # use of callbacks for adding early stopping with patience = 5\n",
        ")\n",
        "plt.plot(history.history[\"loss\"])\n",
        "plt.plot(history.history[\"val_loss\"])\n",
        "plt.title(\"model loss\")\n",
        "plt.ylabel(\"loss\")\n",
        "plt.xlabel(\"epoch\")\n",
        "plt.legend([\"train\", \"test\"], loc=\"upper left\")\n",
        "plt.show()"
      ],
      "metadata": {
        "colab": {
          "base_uri": "https://localhost:8080/",
          "height": 521
        },
        "id": "7k4z9q2pTTjR",
        "outputId": "24f228fd-b002-4dec-97ef-ac049ea6e92a"
      },
      "execution_count": 16,
      "outputs": [
        {
          "output_type": "stream",
          "name": "stdout",
          "text": [
            "Epoch 1/20\n",
            "2836/2836 [==============================] - 15s 5ms/step - loss: 0.5976 - val_loss: 0.6092\n",
            "Epoch 2/20\n",
            "2836/2836 [==============================] - 14s 5ms/step - loss: 0.5957 - val_loss: 0.6108\n",
            "Epoch 3/20\n",
            "2836/2836 [==============================] - 21s 7ms/step - loss: 0.5965 - val_loss: 0.6107\n",
            "Epoch 4/20\n",
            "2836/2836 [==============================] - 14s 5ms/step - loss: 0.5967 - val_loss: 0.6108\n",
            "Epoch 5/20\n",
            "2836/2836 [==============================] - 14s 5ms/step - loss: 0.5971 - val_loss: 0.6116\n",
            "Epoch 6/20\n",
            "2836/2836 [==============================] - 14s 5ms/step - loss: 0.5969 - val_loss: 0.6113\n",
            "Epoch 6: early stopping\n"
          ]
        },
        {
          "output_type": "display_data",
          "data": {
            "text/plain": [
              "<Figure size 432x288 with 1 Axes>"
            ],
            "image/png": "[encoded data removed]"
          },
          "metadata": {
            "needs_background": "light"
          }
        }
      ]
    },
    {
      "cell_type": "markdown",
      "source": [
        "Batch Size = 128"
      ],
      "metadata": {
        "id": "CMntPun-VvGn"
      }
    },
    {
      "cell_type": "code",
      "source": [
        "history = model.fit(\n",
        "    x=x_train,\n",
        "    y=y_train,\n",
        "    batch_size=128,\n",
        "    epochs=20, # change epoch from 5 to 20\n",
        "    verbose=1,\n",
        "    validation_data=(x_val, y_val),\n",
        "    callbacks=[es] # use of callbacks for adding early stopping with patience = 5\n",
        ")\n",
        "plt.plot(history.history[\"loss\"])\n",
        "plt.plot(history.history[\"val_loss\"])\n",
        "plt.title(\"model loss\")\n",
        "plt.ylabel(\"loss\")\n",
        "plt.xlabel(\"epoch\")\n",
        "plt.legend([\"train\", \"test\"], loc=\"upper left\")\n",
        "plt.show()"
      ],
      "metadata": {
        "colab": {
          "base_uri": "https://localhost:8080/",
          "height": 763
        },
        "id": "bR2pZFm6TTgw",
        "outputId": "a07c677c-98dd-404c-949c-8104ab35e302"
      },
      "execution_count": 17,
      "outputs": [
        {
          "output_type": "stream",
          "name": "stdout",
          "text": [
            "Epoch 1/20\n",
            "709/709 [==============================] - 6s 7ms/step - loss: 0.6367 - val_loss: 0.6480\n",
            "Epoch 2/20\n",
            "709/709 [==============================] - 5s 7ms/step - loss: 0.6494 - val_loss: 0.6352\n",
            "Epoch 3/20\n",
            "709/709 [==============================] - 5s 7ms/step - loss: 0.6509 - val_loss: 0.6445\n",
            "Epoch 4/20\n",
            "709/709 [==============================] - 5s 7ms/step - loss: 0.6521 - val_loss: 0.6340\n",
            "Epoch 5/20\n",
            "709/709 [==============================] - 5s 7ms/step - loss: 0.6493 - val_loss: 0.6393\n",
            "Epoch 6/20\n",
            "709/709 [==============================] - 5s 7ms/step - loss: 0.6437 - val_loss: 0.6347\n",
            "Epoch 7/20\n",
            "709/709 [==============================] - 5s 7ms/step - loss: 0.6402 - val_loss: 0.6378\n",
            "Epoch 8/20\n",
            "709/709 [==============================] - 5s 7ms/step - loss: 0.6403 - val_loss: 0.6325\n",
            "Epoch 9/20\n",
            "709/709 [==============================] - 5s 7ms/step - loss: 0.6392 - val_loss: 0.6346\n",
            "Epoch 10/20\n",
            "709/709 [==============================] - 5s 7ms/step - loss: 0.6370 - val_loss: 0.6343\n",
            "Epoch 11/20\n",
            "709/709 [==============================] - 5s 7ms/step - loss: 0.6388 - val_loss: 0.6352\n",
            "Epoch 12/20\n",
            "709/709 [==============================] - 5s 7ms/step - loss: 0.6407 - val_loss: 0.6329\n",
            "Epoch 13/20\n",
            "709/709 [==============================] - 7s 10ms/step - loss: 0.6383 - val_loss: 0.6344\n",
            "Epoch 13: early stopping\n"
          ]
        },
        {
          "output_type": "display_data",
          "data": {
            "text/plain": [
              "<Figure size 432x288 with 1 Axes>"
            ],
            "image/png": "[encoded data removed]"
          },
          "metadata": {
            "needs_background": "light"
          }
        }
      ]
    },
    {
      "cell_type": "markdown",
      "source": [
        "Batch Size = 256"
      ],
      "metadata": {
        "id": "rE27uCD4Vxbo"
      }
    },
    {
      "cell_type": "code",
      "source": [
        "history = model.fit(\n",
        "    x=x_train,\n",
        "    y=y_train,\n",
        "    batch_size=256,\n",
        "    epochs=20, # change epoch from 5 to 20\n",
        "    verbose=1,\n",
        "    validation_data=(x_val, y_val),\n",
        "    callbacks=[es] # use of callbacks for adding early stopping with patience = 5\n",
        ")\n",
        "plt.plot(history.history[\"loss\"])\n",
        "plt.plot(history.history[\"val_loss\"])\n",
        "plt.title(\"model loss\")\n",
        "plt.ylabel(\"loss\")\n",
        "plt.xlabel(\"epoch\")\n",
        "plt.legend([\"train\", \"test\"], loc=\"upper left\")\n",
        "plt.show()"
      ],
      "metadata": {
        "colab": {
          "base_uri": "https://localhost:8080/",
          "height": 555
        },
        "id": "XkiRA642T43Q",
        "outputId": "a0336be5-cc23-4938-9e43-ff0e09f4b18a"
      },
      "execution_count": 18,
      "outputs": [
        {
          "output_type": "stream",
          "name": "stdout",
          "text": [
            "Epoch 1/20\n",
            "355/355 [==============================] - 3s 7ms/step - loss: 0.6983 - val_loss: 0.6898\n",
            "Epoch 2/20\n",
            "355/355 [==============================] - 3s 7ms/step - loss: 0.7024 - val_loss: 0.6733\n",
            "Epoch 3/20\n",
            "355/355 [==============================] - 3s 7ms/step - loss: 0.7627 - val_loss: 0.8149\n",
            "Epoch 4/20\n",
            "355/355 [==============================] - 3s 7ms/step - loss: 0.7936 - val_loss: 0.7170\n",
            "Epoch 5/20\n",
            "355/355 [==============================] - 3s 7ms/step - loss: 0.8640 - val_loss: 0.8481\n",
            "Epoch 6/20\n",
            "355/355 [==============================] - 2s 7ms/step - loss: 0.8656 - val_loss: 0.6961\n",
            "Epoch 7/20\n",
            "355/355 [==============================] - 3s 7ms/step - loss: 0.8530 - val_loss: 0.7517\n",
            "Epoch 7: early stopping\n"
          ]
        },
        {
          "output_type": "display_data",
          "data": {
            "text/plain": [
              "<Figure size 432x288 with 1 Axes>"
            ],
            "image/png": "[encoded data removed]"
          },
          "metadata": {
            "needs_background": "light"
          }
        }
      ]
    },
    {
      "cell_type": "markdown",
      "source": [
        "Batch 32 ig giving lowest validation loss"
      ],
      "metadata": {
        "id": "hELieBV7Wkg8"
      }
    },
    {
      "cell_type": "markdown",
      "source": [
        "**3. (3 points) Use the batch_size value that gives the lowest loss. Change\n",
        "EMBEDDING_SIZE to other values (100, 150, and 200). Which gives the\n",
        "lowest loss? The notebook should show all the results.**"
      ],
      "metadata": {
        "id": "NkFEvAlIV-QQ"
      }
    },
    {
      "cell_type": "markdown",
      "source": [
        "EMBEDDING_SIZE = 100"
      ],
      "metadata": {
        "id": "EutkEtzMW4rX"
      }
    },
    {
      "cell_type": "code",
      "source": [
        "model = RecommenderNet(num_users, num_movies, 100)\n",
        "model.compile(\n",
        "    loss=tf.keras.losses.BinaryCrossentropy(), optimizer=keras.optimizers.Adam(lr=0.001)\n",
        ")\n",
        "history = model.fit(\n",
        "    x=x_train,\n",
        "    y=y_train,\n",
        "    batch_size=32,\n",
        "    epochs=20, # change epoch from 5 to 20\n",
        "    verbose=1,\n",
        "    validation_data=(x_val, y_val),\n",
        "    callbacks=[es] # use of callbacks for adding early stopping with patience = 5\n",
        ")\n",
        "plt.plot(history.history[\"loss\"])\n",
        "plt.plot(history.history[\"val_loss\"])\n",
        "plt.title(\"model loss\")\n",
        "plt.ylabel(\"loss\")\n",
        "plt.xlabel(\"epoch\")\n",
        "plt.legend([\"train\", \"test\"], loc=\"upper left\")\n",
        "plt.show()"
      ],
      "metadata": {
        "colab": {
          "base_uri": "https://localhost:8080/",
          "height": 590
        },
        "id": "WbobEra3T40y",
        "outputId": "c8821f1d-1cf2-43f8-ed52-058940795daa"
      },
      "execution_count": 19,
      "outputs": [
        {
          "output_type": "stream",
          "name": "stdout",
          "text": [
            "Epoch 1/20\n"
          ]
        },
        {
          "output_type": "stream",
          "name": "stderr",
          "text": [
            "/usr/local/lib/python3.7/dist-packages/keras/optimizer_v2/adam.py:105: UserWarning: The `lr` argument is deprecated, use `learning_rate` instead.\n",
            "  super(Adam, self).__init__(name, **kwargs)\n"
          ]
        },
        {
          "output_type": "stream",
          "name": "stdout",
          "text": [
            "2836/2836 [==============================] - 17s 5ms/step - loss: 0.6321 - val_loss: 0.6202\n",
            "Epoch 2/20\n",
            "2836/2836 [==============================] - 14s 5ms/step - loss: 0.6171 - val_loss: 0.6193\n",
            "Epoch 3/20\n",
            "2836/2836 [==============================] - 14s 5ms/step - loss: 0.6190 - val_loss: 0.6202\n",
            "Epoch 4/20\n",
            "2836/2836 [==============================] - 15s 5ms/step - loss: 0.6220 - val_loss: 0.6199\n",
            "Epoch 5/20\n",
            "2836/2836 [==============================] - 14s 5ms/step - loss: 0.6219 - val_loss: 0.6214\n",
            "Epoch 6/20\n",
            "2836/2836 [==============================] - 15s 5ms/step - loss: 0.6246 - val_loss: 0.6215\n",
            "Epoch 7/20\n",
            "2836/2836 [==============================] - 14s 5ms/step - loss: 0.6251 - val_loss: 0.6219\n",
            "Epoch 7: early stopping\n"
          ]
        },
        {
          "output_type": "display_data",
          "data": {
            "text/plain": [
              "<Figure size 432x288 with 1 Axes>"
            ],
            "image/png": "[encoded data removed]"
          },
          "metadata": {
            "needs_background": "light"
          }
        }
      ]
    },
    {
      "cell_type": "markdown",
      "source": [
        "EMBEDDING_SIZE = 150"
      ],
      "metadata": {
        "id": "RtJ9eyWHW8wk"
      }
    },
    {
      "cell_type": "code",
      "source": [
        "model = RecommenderNet(num_users, num_movies, 150)\n",
        "model.compile(\n",
        "    loss=tf.keras.losses.BinaryCrossentropy(), optimizer=keras.optimizers.Adam(lr=0.001)\n",
        ")\n",
        "history = model.fit(\n",
        "    x=x_train,\n",
        "    y=y_train,\n",
        "    batch_size=32,\n",
        "    epochs=20, # change epoch from 5 to 20\n",
        "    verbose=1,\n",
        "    validation_data=(x_val, y_val),\n",
        "    callbacks=[es] # use of callbacks for adding early stopping with patience = 5\n",
        ")\n",
        "plt.plot(history.history[\"loss\"])\n",
        "plt.plot(history.history[\"val_loss\"])\n",
        "plt.title(\"model loss\")\n",
        "plt.ylabel(\"loss\")\n",
        "plt.xlabel(\"epoch\")\n",
        "plt.legend([\"train\", \"test\"], loc=\"upper left\")\n",
        "plt.show()"
      ],
      "metadata": {
        "colab": {
          "base_uri": "https://localhost:8080/",
          "height": 555
        },
        "id": "6Xgpb1eFT4yK",
        "outputId": "7ec30fb6-2370-4db0-84d7-5bf6f724cb7d"
      },
      "execution_count": 20,
      "outputs": [
        {
          "output_type": "stream",
          "name": "stdout",
          "text": [
            "Epoch 1/20\n"
          ]
        },
        {
          "output_type": "stream",
          "name": "stderr",
          "text": [
            "/usr/local/lib/python3.7/dist-packages/keras/optimizer_v2/adam.py:105: UserWarning: The `lr` argument is deprecated, use `learning_rate` instead.\n",
            "  super(Adam, self).__init__(name, **kwargs)\n"
          ]
        },
        {
          "output_type": "stream",
          "name": "stdout",
          "text": [
            "2836/2836 [==============================] - 17s 6ms/step - loss: 0.6323 - val_loss: 0.6228\n",
            "Epoch 2/20\n",
            "2836/2836 [==============================] - 15s 5ms/step - loss: 0.6297 - val_loss: 0.6310\n",
            "Epoch 3/20\n",
            "2836/2836 [==============================] - 15s 5ms/step - loss: 0.6444 - val_loss: 0.6331\n",
            "Epoch 4/20\n",
            "2836/2836 [==============================] - 15s 5ms/step - loss: 0.6542 - val_loss: 0.6323\n",
            "Epoch 5/20\n",
            "2836/2836 [==============================] - 15s 5ms/step - loss: 0.6544 - val_loss: 0.6345\n",
            "Epoch 6/20\n",
            "2836/2836 [==============================] - 15s 5ms/step - loss: 0.6605 - val_loss: 0.6329\n",
            "Epoch 6: early stopping\n"
          ]
        },
        {
          "output_type": "display_data",
          "data": {
            "text/plain": [
              "<Figure size 432x288 with 1 Axes>"
            ],
            "image/png": "[encoded data removed]"
          },
          "metadata": {
            "needs_background": "light"
          }
        }
      ]
    },
    {
      "cell_type": "markdown",
      "source": [
        "EMBEDDING_SIZE = 200"
      ],
      "metadata": {
        "id": "IYsTNV5pXBS4"
      }
    },
    {
      "cell_type": "code",
      "source": [
        "model = RecommenderNet(num_users, num_movies, 200)\n",
        "model.compile(\n",
        "    loss=tf.keras.losses.BinaryCrossentropy(), optimizer=keras.optimizers.Adam(lr=0.001)\n",
        ")\n",
        "history = model.fit(\n",
        "    x=x_train,\n",
        "    y=y_train,\n",
        "    batch_size=32,\n",
        "    epochs=20, # change epoch from 5 to 20\n",
        "    verbose=1,\n",
        "    validation_data=(x_val, y_val),\n",
        "    callbacks=[es] # use of callbacks for adding early stopping with patience = 5\n",
        ")\n",
        "plt.plot(history.history[\"loss\"])\n",
        "plt.plot(history.history[\"val_loss\"])\n",
        "plt.title(\"model loss\")\n",
        "plt.ylabel(\"loss\")\n",
        "plt.xlabel(\"epoch\")\n",
        "plt.legend([\"train\", \"test\"], loc=\"upper left\")\n",
        "plt.show()"
      ],
      "metadata": {
        "colab": {
          "base_uri": "https://localhost:8080/",
          "height": 555
        },
        "id": "-nsi5wKjT4v6",
        "outputId": "b211ec8d-13a9-476e-cff3-c7165c139499"
      },
      "execution_count": 21,
      "outputs": [
        {
          "output_type": "stream",
          "name": "stdout",
          "text": [
            "Epoch 1/20\n"
          ]
        },
        {
          "output_type": "stream",
          "name": "stderr",
          "text": [
            "/usr/local/lib/python3.7/dist-packages/keras/optimizer_v2/adam.py:105: UserWarning: The `lr` argument is deprecated, use `learning_rate` instead.\n",
            "  super(Adam, self).__init__(name, **kwargs)\n"
          ]
        },
        {
          "output_type": "stream",
          "name": "stdout",
          "text": [
            "2836/2836 [==============================] - 17s 6ms/step - loss: 0.6338 - val_loss: 0.6252\n",
            "Epoch 2/20\n",
            "2836/2836 [==============================] - 16s 6ms/step - loss: 0.6454 - val_loss: 0.6389\n",
            "Epoch 3/20\n",
            "2836/2836 [==============================] - 16s 6ms/step - loss: 0.6803 - val_loss: 0.6467\n",
            "Epoch 4/20\n",
            "2836/2836 [==============================] - 16s 6ms/step - loss: 0.6936 - val_loss: 0.6535\n",
            "Epoch 5/20\n",
            "2836/2836 [==============================] - 17s 6ms/step - loss: 0.7052 - val_loss: 0.6552\n",
            "Epoch 6/20\n",
            "2836/2836 [==============================] - 16s 6ms/step - loss: 0.7079 - val_loss: 0.6572\n",
            "Epoch 6: early stopping\n"
          ]
        },
        {
          "output_type": "display_data",
          "data": {
            "text/plain": [
              "<Figure size 432x288 with 1 Axes>"
            ],
            "image/png": "[encoded data removed]"
          },
          "metadata": {
            "needs_background": "light"
          }
        }
      ]
    },
    {
      "cell_type": "markdown",
      "source": [
        "EMBEDDING_SIZE = 100 has the lowest validation loss."
      ],
      "metadata": {
        "id": "y9mml6t-Yx-L"
      }
    },
    {
      "cell_type": "markdown",
      "source": [
        "**4. (2 points) Provide the top 10 movies for each user and save in a Excel file\n",
        "with the following columns user id, movie title, and movie genre.**"
      ],
      "metadata": {
        "id": "BJIB9iYHZEyV"
      }
    },
    {
      "cell_type": "code",
      "source": [
        "user_id_list = []\n",
        "movie_title_list = []\n",
        "movies_genre_list = []"
      ],
      "metadata": {
        "id": "eWzH9jJlaKYF"
      },
      "execution_count": 37,
      "outputs": []
    },
    {
      "cell_type": "code",
      "source": [
        "user_ids = df[\"userId\"].unique().tolist()\n",
        "movie_df = pd.read_csv(movielens_dir / \"movies.csv\")"
      ],
      "metadata": {
        "id": "ZVYzwX2Gapfe"
      },
      "execution_count": 38,
      "outputs": []
    },
    {
      "cell_type": "code",
      "source": [
        "for i in user_ids:\n",
        "    print(i)\n",
        "    user_id = i\n",
        "    movies_watched_by_user = df[df.userId == user_id]\n",
        "    movies_not_watched = movie_df[\n",
        "        ~movie_df[\"movieId\"].isin(movies_watched_by_user.movieId.values)\n",
        "    ][\"movieId\"]\n",
        "    movies_not_watched = list(\n",
        "        set(movies_not_watched).intersection(set(movie2movie_encoded.keys()))\n",
        "    )\n",
        "    movies_not_watched = [[movie2movie_encoded.get(x)] for x in movies_not_watched]\n",
        "    user_encoder = user2user_encoded.get(user_id)\n",
        "    user_movie_array = np.hstack(\n",
        "        ([[user_encoder]] * len(movies_not_watched), movies_not_watched)\n",
        "    )\n",
        "    ratings = model.predict(user_movie_array).flatten()\n",
        "    top_ratings_indices = ratings.argsort()[-10:][::-1]\n",
        "    recommended_movie_ids = [\n",
        "        movie_encoded2movie.get(movies_not_watched[x][0]) for x in top_ratings_indices\n",
        "    ]\n",
        "    recommended_movies = movie_df[movie_df[\"movieId\"].isin(recommended_movie_ids)]\n",
        "    for row in recommended_movies.itertuples():\n",
        "        user_id_list.append(user_id)\n",
        "        movie_title_list.append(row.title)\n",
        "        movies_genre_list.append(row.genres)"
      ],
      "metadata": {
        "id": "ISsEMQjlZ4h7"
      },
      "execution_count": null,
      "outputs": []
    },
    {
      "cell_type": "code",
      "source": [
        "len(user_id_list),len(movie_title_list),len(movies_genre_list)"
      ],
      "metadata": {
        "colab": {
          "base_uri": "https://localhost:8080/"
        },
        "id": "Poof5POGeFZu",
        "outputId": "a1a5c089-54fe-47ed-dfd1-de4e28790ecc"
      },
      "execution_count": 41,
      "outputs": [
        {
          "output_type": "execute_result",
          "data": {
            "text/plain": [
              "(6100, 6100, 6100)"
            ]
          },
          "metadata": {},
          "execution_count": 41
        }
      ]
    },
    {
      "cell_type": "code",
      "source": [
        "data = pd.DataFrame([user_id_list,movie_title_list,movies_genre_list]) #Each list would be added as a row\n",
        "data = data.transpose() #To Transpose and make each rows as columns\n",
        "data.columns=['User Id', 'Movie Titile', 'Movie Genre'] #Rename the columns"
      ],
      "metadata": {
        "id": "WWcYaRqweYUg"
      },
      "execution_count": 45,
      "outputs": []
    },
    {
      "cell_type": "code",
      "source": [
        "data.head()"
      ],
      "metadata": {
        "colab": {
          "base_uri": "https://localhost:8080/",
          "height": 206
        },
        "id": "gKoHEWkwe2T3",
        "outputId": "b18767fd-84f3-497f-aad9-a806bc5da471"
      },
      "execution_count": 46,
      "outputs": [
        {
          "output_type": "execute_result",
          "data": {
            "text/plain": [
              "  User Id                Movie Titile       Movie Genre\n",
              "0     432          Rear Window (1954)  Mystery|Thriller\n",
              "1     432       Cool Hand Luke (1967)             Drama\n",
              "2     432  Great Dictator, The (1940)  Comedy|Drama|War\n",
              "3     432            High Noon (1952)     Drama|Western\n",
              "4     432   This Is Spinal Tap (1984)            Comedy"
            ],
            "text/html": [
              "\n",
              "  <div id=\"df-7db81c19-894a-41ee-b744-b95a5160e492\">\n",
              "    <div class=\"colab-df-container\">\n",
              "      <div>\n",
              "<style scoped>\n",
              "    .dataframe tbody tr th:only-of-type {\n",
              "        vertical-align: middle;\n",
              "    }\n",
              "\n",
              "    .dataframe tbody tr th {\n",
              "        vertical-align: top;\n",
              "    }\n",
              "\n",
              "    .dataframe thead th {\n",
              "        text-align: right;\n",
              "    }\n",
              "</style>\n",
              "<table border=\"1\" class=\"dataframe\">\n",
              "  <thead>\n",
              "    <tr style=\"text-align: right;\">\n",
              "      <th></th>\n",
              "      <th>User Id</th>\n",
              "      <th>Movie Titile</th>\n",
              "      <th>Movie Genre</th>\n",
              "    </tr>\n",
              "  </thead>\n",
              "  <tbody>\n",
              "    <tr>\n",
              "      <th>0</th>\n",
              "      <td>432</td>\n",
              "      <td>Rear Window (1954)</td>\n",
              "      <td>Mystery|Thriller</td>\n",
              "    </tr>\n",
              "    <tr>\n",
              "      <th>1</th>\n",
              "      <td>432</td>\n",
              "      <td>Cool Hand Luke (1967)</td>\n",
              "      <td>Drama</td>\n",
              "    </tr>\n",
              "    <tr>\n",
              "      <th>2</th>\n",
              "      <td>432</td>\n",
              "      <td>Great Dictator, The (1940)</td>\n",
              "      <td>Comedy|Drama|War</td>\n",
              "    </tr>\n",
              "    <tr>\n",
              "      <th>3</th>\n",
              "      <td>432</td>\n",
              "      <td>High Noon (1952)</td>\n",
              "      <td>Drama|Western</td>\n",
              "    </tr>\n",
              "    <tr>\n",
              "      <th>4</th>\n",
              "      <td>432</td>\n",
              "      <td>This Is Spinal Tap (1984)</td>\n",
              "      <td>Comedy</td>\n",
              "    </tr>\n",
              "  </tbody>\n",
              "</table>\n",
              "</div>\n",
              "      <button class=\"colab-df-convert\" onclick=\"convertToInteractive('df-7db81c19-894a-41ee-b744-b95a5160e492')\"\n",
              "              title=\"Convert this dataframe to an interactive table.\"\n",
              "              style=\"display:none;\">\n",
              "        \n",
              "  <svg xmlns=\"http://www.w3.org/2000/svg\" height=\"24px\"viewBox=\"0 0 24 24\"\n",
              "       width=\"24px\">\n",
              "    <path d=\"M0 0h24v24H0V0z\" fill=\"none\"/>\n",
              "    <path d=\"M18.56 5.44l.94 2.06.94-2.06 2.06-.94-2.06-.94-.94-2.06-.94 2.06-2.06.94zm-11 1L8.5 8.5l.94-2.06 2.06-.94-2.06-.94L8.5 2.5l-.94 2.06-2.06.94zm10 10l.94 2.06.94-2.06 2.06-.94-2.06-.94-.94-2.06-.94 2.06-2.06.94z\"/><path d=\"M17.41 7.96l-1.37-1.37c-.4-.4-.92-.59-1.43-.59-.52 0-1.04.2-1.43.59L10.3 9.45l-7.72 7.72c-.78.78-.78 2.05 0 2.83L4 21.41c.39.39.9.59 1.41.59.51 0 1.02-.2 1.41-.59l7.78-7.78 2.81-2.81c.8-.78.8-2.07 0-2.86zM5.41 20L4 18.59l7.72-7.72 1.47 1.35L5.41 20z\"/>\n",
              "  </svg>\n",
              "      </button>\n",
              "      \n",
              "  <style>\n",
              "    .colab-df-container {\n",
              "      display:flex;\n",
              "      flex-wrap:wrap;\n",
              "      gap: 12px;\n",
              "    }\n",
              "\n",
              "    .colab-df-convert {\n",
              "      background-color: #E8F0FE;\n",
              "      border: none;\n",
              "      border-radius: 50%;\n",
              "      cursor: pointer;\n",
              "      display: none;\n",
              "      fill: #1967D2;\n",
              "      height: 32px;\n",
              "      padding: 0 0 0 0;\n",
              "      width: 32px;\n",
              "    }\n",
              "\n",
              "    .colab-df-convert:hover {\n",
              "      background-color: #E2EBFA;\n",
              "      box-shadow: 0px 1px 2px rgba(60, 64, 67, 0.3), 0px 1px 3px 1px rgba(60, 64, 67, 0.15);\n",
              "      fill: #174EA6;\n",
              "    }\n",
              "\n",
              "    [theme=dark] .colab-df-convert {\n",
              "      background-color: #3B4455;\n",
              "      fill: #D2E3FC;\n",
              "    }\n",
              "\n",
              "    [theme=dark] .colab-df-convert:hover {\n",
              "      background-color: #434B5C;\n",
              "      box-shadow: 0px 1px 3px 1px rgba(0, 0, 0, 0.15);\n",
              "      filter: drop-shadow(0px 1px 2px rgba(0, 0, 0, 0.3));\n",
              "      fill: #FFFFFF;\n",
              "    }\n",
              "  </style>\n",
              "\n",
              "      <script>\n",
              "        const buttonEl =\n",
              "          document.querySelector('#df-7db81c19-894a-41ee-b744-b95a5160e492 button.colab-df-convert');\n",
              "        buttonEl.style.display =\n",
              "          google.colab.kernel.accessAllowed ? 'block' : 'none';\n",
              "\n",
              "        async function convertToInteractive(key) {\n",
              "          const element = document.querySelector('#df-7db81c19-894a-41ee-b744-b95a5160e492');\n",
              "          const dataTable =\n",
              "            await google.colab.kernel.invokeFunction('convertToInteractive',\n",
              "                                                     [key], {});\n",
              "          if (!dataTable) return;\n",
              "\n",
              "          const docLinkHtml = 'Like what you see? Visit the ' +\n",
              "            '<a target=\"_blank\" href=https://colab.research.google.com/notebooks/data_table.ipynb>data table notebook</a>'\n",
              "            + ' to learn more about interactive tables.';\n",
              "          element.innerHTML = '';\n",
              "          dataTable['output_type'] = 'display_data';\n",
              "          await google.colab.output.renderOutput(dataTable, element);\n",
              "          const docLink = document.createElement('div');\n",
              "          docLink.innerHTML = docLinkHtml;\n",
              "          element.appendChild(docLink);\n",
              "        }\n",
              "      </script>\n",
              "    </div>\n",
              "  </div>\n",
              "  "
            ]
          },
          "metadata": {},
          "execution_count": 46
        }
      ]
    },
    {
      "cell_type": "code",
      "source": [
        "data.to_csv(\"User_Recommendation.csv\")"
      ],
      "metadata": {
        "id": "ne6zpq3XZ4fl"
      },
      "execution_count": 47,
      "outputs": []
    },
    {
      "cell_type": "code",
      "source": [
        ""
      ],
      "metadata": {
        "id": "ZzRN26eBZ4dD"
      },
      "execution_count": null,
      "outputs": []
    },
    {
      "cell_type": "code",
      "source": [
        ""
      ],
      "metadata": {
        "id": "CZG1zBtnSHql"
      },
      "execution_count": null,
      "outputs": []
    }
  ]
}